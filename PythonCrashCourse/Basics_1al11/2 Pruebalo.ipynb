{
 "cells": [
  {
   "cell_type": "markdown",
   "id": "03c3c8f2",
   "metadata": {},
   "source": [
    "2-1.  Mensaje simple: Asigne un mensaje a una variable e imprima ese mensaje."
   ]
  },
  {
   "cell_type": "code",
   "execution_count": 2,
   "id": "4268c2cb",
   "metadata": {},
   "outputs": [
    {
     "name": "stdout",
     "output_type": "stream",
     "text": [
      "\n",
      "Bagui G U A P A\n"
     ]
    }
   ],
   "source": [
    "message1 = 'Bagui G U A P A'\n",
    "print(f\"\\n\"+message1)"
   ]
  },
  {
   "cell_type": "markdown",
   "id": "a2d39400",
   "metadata": {},
   "source": [
    "2-2.  Mensajes simples: Asigne un mensaje a una variable e imprímalo.\n",
    "      Luego, cambie el valor de la variable por un mensaje diferente e imprima el nuevo mensaje."
   ]
  },
  {
   "cell_type": "code",
   "execution_count": 1,
   "id": "90f7ae45",
   "metadata": {},
   "outputs": [
    {
     "name": "stdout",
     "output_type": "stream",
     "text": [
      "\n",
      "Bagui G U A P A\n",
      "\n",
      "Bagui GUAPA\n"
     ]
    }
   ],
   "source": [
    "message1 = 'Bagui G U A P A'\n",
    "print(f\"\\n\"+message1)\n",
    "\n",
    "message1 = 'Bagui GUAPA'\n",
    "print(f\"\\n\"+message1)"
   ]
  },
  {
   "cell_type": "markdown",
   "id": "e1b230ce",
   "metadata": {},
   "source": [
    "2-3.   Mensaje personal: Use una variable para representar el nombre de una persona e imprima \n",
    "       un mensaje para esa persona. El mensaje debería ser sencillo, por ejemplo:\n",
    "       \"Hola, Eric, ¿te gustaría aprender Python hoy?\"."
   ]
  },
  {
   "cell_type": "code",
   "execution_count": null,
   "id": "09831f57",
   "metadata": {},
   "outputs": [],
   "source": [
    "\n",
    "nombre = 'Juan Pablo'\n",
    "print(f\"\\nQue haces \"+nombre+\"?\")"
   ]
  },
  {
   "cell_type": "markdown",
   "id": "8ef2f713",
   "metadata": {},
   "source": [
    "2-4.   Grafía de nombres: Use una variable para representar el nombre de una persona e imprima \n",
    "       ese nombre en minúsculas, mayúsculas y con mayúscula inicial."
   ]
  },
  {
   "cell_type": "code",
   "execution_count": 3,
   "id": "8ff7b863",
   "metadata": {},
   "outputs": [
    {
     "name": "stdout",
     "output_type": "stream",
     "text": [
      "\n",
      "pol alomar casá\n",
      "\n",
      "POL ALOMAR CASÁ\n",
      "\n",
      "Pol Alomar Casá\n"
     ]
    }
   ],
   "source": [
    "yo = 'Pol Alomar Casá'\n",
    "print(f\"\\n\"+yo.lower())\n",
    "print(f\"\\n\"+yo.upper())\n",
    "print(f\"\\n\"+yo.title())"
   ]
  },
  {
   "cell_type": "markdown",
   "id": "1f34ef7a",
   "metadata": {},
   "source": [
    "2-5    Cita celebre: Find a quote from a famous person you admire. Print the quot and the name of its      author."
   ]
  },
  {
   "cell_type": "code",
   "execution_count": 4,
   "id": "ff787ff5",
   "metadata": {},
   "outputs": [
    {
     "name": "stdout",
     "output_type": "stream",
     "text": [
      "\n",
      "Rousseau once said: \"The human is good by nature\"\n"
     ]
    }
   ],
   "source": [
    "print(f\"\\n\"+\"Rousseau once said: \\\"The human is good by nature\\\"\")"
   ]
  },
  {
   "cell_type": "markdown",
   "id": "dbbc7a4f",
   "metadata": {},
   "source": [
    "2-6.   Cita célebre 2: Repita el ejercicio 2-5, pero, esta vez, represente el nombre de la persona \n",
    "       usando una variable llamada famous_person. Después, componga el mensaje y represéntelo con \n",
    "       una nueva variable llamada message. Imprima su mensaje."
   ]
  },
  {
   "cell_type": "code",
   "execution_count": 6,
   "id": "86e93a85",
   "metadata": {},
   "outputs": [
    {
     "name": "stdout",
     "output_type": "stream",
     "text": [
      "\n",
      "Jean-Jacques Rousseau: The human is good by nature\n"
     ]
    }
   ],
   "source": [
    "famous_person = 'Jean-Jacques Rousseau'\n",
    "message2 = 'The human is good by nature'\n",
    "print(f\"\\n\"+famous_person+\": \"+message2)"
   ]
  },
  {
   "cell_type": "markdown",
   "id": "ec84192d",
   "metadata": {},
   "source": [
    "2-7.   Eliminar espacios de nombres: Use una variable para representar el nombre de una persona \n",
    "       e incluya algunos caracteres de espacio en blanco al principio y al final del nombre. \n",
    "       Asegúrese de usar cada combinación de caracteres, \"\\t\" y \"\\n\", al menos una vez. \n",
    "       Imprima el nombre una vez, de modo que se muestren los espacios de alrededor. \n",
    "       A continuación, imprima el nombre usando cada una de las tres funciones que hemos visto: \n",
    "       lstrip(), rstrip() y strip()."
   ]
  },
  {
   "cell_type": "code",
   "execution_count": null,
   "id": "595f206e",
   "metadata": {},
   "outputs": [
    {
     "name": "stdout",
     "output_type": "stream",
     "text": [
      "\n",
      "    Nicolas Alomar  \n",
      "\n",
      "Nicolas Alomar  \n",
      "\n",
      "    Nicolas Alomar\n",
      "\n",
      "Nicolas Alomar\n"
     ]
    }
   ],
   "source": [
    "nam = '    Nicolas Alomar  '\n",
    "print(f\"\\n\"+nam)\n",
    "print(f\"\\n\"+nam.lstrip())\n",
    "print(f\"\\n\"+nam.rstrip())\n",
    "print(f\"\\n\"+nam.strip())"
   ]
  },
  {
   "cell_type": "markdown",
   "id": "966e0247",
   "metadata": {},
   "source": [
    "2-8.   Extensiones de archivos: Python cuenta con el método removesuffix(), que funciona exactamente \n",
    "       igual que el método removeprefix(). Asigne el valor 'python_notes.txt' a una variable llamada \n",
    "       filename. A continuación, utilice el método removesuffix() para mostrar el nombre de archivo\n",
    "       sin la extensión de archivo, como ocurre con algunos exploradores de archivo."
   ]
  },
  {
   "cell_type": "code",
   "execution_count": null,
   "id": "2bf80058",
   "metadata": {},
   "outputs": [],
   "source": [
    "fileName = 'Python_notes.txt'\n",
    "print(f\"\\n\"+fileName.removesuffix('.txt')+f\"\\n\")"
   ]
  },
  {
   "cell_type": "markdown",
   "id": "ada7c529",
   "metadata": {},
   "source": [
    "2-9.  Número ocho: Escriba operaciones de suma, resta, multiplicación y división que den como resultado\n",
    "       el número 8. Asegúrese de incluir sus operaciones en llamadas a print() para ver los resultados."
   ]
  },
  {
   "cell_type": "code",
   "execution_count": null,
   "id": "e802e23e",
   "metadata": {},
   "outputs": [],
   "source": [
    "\n",
    "print(5+3)\n",
    "print(9-1)\n",
    "print(4*2)\n",
    "print(16/2)"
   ]
  },
  {
   "cell_type": "markdown",
   "id": "e607ae03",
   "metadata": {},
   "source": [
    "\n",
    "2-10.  Número favorito: Use una variable para representar su número favorito. A continuación, \n",
    "       usando esa variable, cree el mensaje que revele su número favorito e imprímalo."
   ]
  },
  {
   "cell_type": "code",
   "execution_count": 8,
   "id": "baba56f6",
   "metadata": {},
   "outputs": [
    {
     "name": "stdout",
     "output_type": "stream",
     "text": [
      "\n",
      "Mi número fav es: 25\n",
      "\n"
     ]
    }
   ],
   "source": [
    "numero_fav = '25'\n",
    "print(f\"\\nMi número fav es: \"+numero_fav+f\"\\n\")"
   ]
  },
  {
   "cell_type": "markdown",
   "id": "0ea44947",
   "metadata": {},
   "source": [
    "2-12.  Zen de Python: Escriba import this en una sesión de terminal de Python\n",
    "       y lea todos los principios.\n"
   ]
  },
  {
   "cell_type": "code",
   "execution_count": 9,
   "id": "131f13ab",
   "metadata": {},
   "outputs": [
    {
     "name": "stdout",
     "output_type": "stream",
     "text": [
      "The Zen of Python, by Tim Peters\n",
      "\n",
      "Beautiful is better than ugly.\n",
      "Explicit is better than implicit.\n",
      "Simple is better than complex.\n",
      "Complex is better than complicated.\n",
      "Flat is better than nested.\n",
      "Sparse is better than dense.\n",
      "Readability counts.\n",
      "Special cases aren't special enough to break the rules.\n",
      "Although practicality beats purity.\n",
      "Errors should never pass silently.\n",
      "Unless explicitly silenced.\n",
      "In the face of ambiguity, refuse the temptation to guess.\n",
      "There should be one-- and preferably only one --obvious way to do it.\n",
      "Although that way may not be obvious at first unless you're Dutch.\n",
      "Now is better than never.\n",
      "Although never is often better than *right* now.\n",
      "If the implementation is hard to explain, it's a bad idea.\n",
      "If the implementation is easy to explain, it may be a good idea.\n",
      "Namespaces are one honking great idea -- let's do more of those!\n"
     ]
    }
   ],
   "source": [
    "import this"
   ]
  }
 ],
 "metadata": {
  "kernelspec": {
   "display_name": "Python 3",
   "language": "python",
   "name": "python3"
  },
  "language_info": {
   "codemirror_mode": {
    "name": "ipython",
    "version": 3
   },
   "file_extension": ".py",
   "mimetype": "text/x-python",
   "name": "python",
   "nbconvert_exporter": "python",
   "pygments_lexer": "ipython3",
   "version": "3.11.9"
  }
 },
 "nbformat": 4,
 "nbformat_minor": 5
}
