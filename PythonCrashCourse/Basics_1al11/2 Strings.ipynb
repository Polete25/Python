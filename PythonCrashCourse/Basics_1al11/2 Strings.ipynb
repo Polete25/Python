{
 "cells": [
  {
   "cell_type": "code",
   "execution_count": 1,
   "id": "8e415a7f",
   "metadata": {},
   "outputs": [
    {
     "name": "stdout",
     "output_type": "stream",
     "text": [
      "ADA LOVELACE\n",
      "Ada Lovelace\n",
      "ada lovelace\n",
      "ada lovelace\n",
      "Hello, Ada Lovelace\n",
      "Hello, Ada Lovelace\n",
      "\n",
      "Lenguages:\n",
      "\t\tPython\n",
      "\t\tC++\n",
      "\t\tJava\n",
      "python\n",
      "python\n",
      " python \n",
      "nostarch.com\n",
      "\n",
      "One of Python's strenghts is its dicerse community.\n",
      "\n"
     ]
    }
   ],
   "source": [
    "name = \"ada lovelace\"\n",
    "print(name.upper())\n",
    "print(name.title())\n",
    "print(name.lower())\n",
    "\n",
    "first_name = \"ada\"\n",
    "last_name = \"lovelace\"\n",
    "full_name = f\"{first_name} {last_name}\"\n",
    "print(full_name)\n",
    "print(f\"Hello, {full_name.title()}\")\n",
    "message = f\"Hello, {full_name.title()}\"\n",
    "print(message)\n",
    "\n",
    "# \\n & \\t\n",
    "print(\"\\nLenguages:\\n\\t\\tPython\\n\\t\\tC++\\n\\t\\tJava\")\n",
    "\n",
    "message = \" python \"\n",
    "print(message.lstrip().rstrip())\n",
    "print(message.strip())\n",
    "print(message)\n",
    "\n",
    "nostarch_url = 'https://nostarch.com'\n",
    "print(nostarch_url.removeprefix('https://'))\n",
    "\n",
    "message = \"\\nOne of Python's strenghts is its dicerse community.\\n\"\n",
    "print(message)"
   ]
  }
 ],
 "metadata": {
  "kernelspec": {
   "display_name": "Python 3",
   "language": "python",
   "name": "python3"
  },
  "language_info": {
   "codemirror_mode": {
    "name": "ipython",
    "version": 3
   },
   "file_extension": ".py",
   "mimetype": "text/x-python",
   "name": "python",
   "nbconvert_exporter": "python",
   "pygments_lexer": "ipython3",
   "version": "3.11.9"
  }
 },
 "nbformat": 4,
 "nbformat_minor": 5
}
