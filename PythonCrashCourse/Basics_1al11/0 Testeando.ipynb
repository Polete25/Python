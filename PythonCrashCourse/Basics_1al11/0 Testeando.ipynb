{
 "cells": [
  {
   "cell_type": "markdown",
   "id": "29330977",
   "metadata": {},
   "source": [
    "Probando los prints de la concatenación de lso diccionarios."
   ]
  },
  {
   "cell_type": "code",
   "execution_count": 1,
   "id": "c41076ab",
   "metadata": {},
   "outputs": [
    {
     "name": "stdout",
     "output_type": "stream",
     "text": [
      "[{'Nombre Artista': 'Pol', 'Titulo Album': 'Loquito', 'Numero canciones': 10}, {'Nombre Artista': 'Nico', 'Titulo Album': 'Cristina', 'Numero canciones': 1}, {'Nombre Artista': 'Pablo', 'Titulo Album': 'LALA'}]\n"
     ]
    }
   ],
   "source": [
    "alb_mus1 = {'Nombre Artista': 'Pol', 'Titulo Album': 'Loquito', 'Numero canciones': 10,}\n",
    "alb_mus2 = {'Nombre Artista': 'Nico', 'Titulo Album': 'Cristina', 'Numero canciones': 1,}\n",
    "alb_mus3 = {'Nombre Artista': 'Pablo', 'Titulo Album': 'LALA',}\n",
    "alb_mus = [alb_mus1,alb_mus2,alb_mus3]\n",
    "print(alb_mus)"
   ]
  }
 ],
 "metadata": {
  "kernelspec": {
   "display_name": "Python 3",
   "language": "python",
   "name": "python3"
  },
  "language_info": {
   "codemirror_mode": {
    "name": "ipython",
    "version": 3
   },
   "file_extension": ".py",
   "mimetype": "text/x-python",
   "name": "python",
   "nbconvert_exporter": "python",
   "pygments_lexer": "ipython3",
   "version": "3.11.9"
  }
 },
 "nbformat": 4,
 "nbformat_minor": 5
}
