{
 "cells": [
  {
   "cell_type": "markdown",
   "id": "a74bbbf2",
   "metadata": {},
   "source": [
    "4-1.   Pizzas: Piense en al menos tres de sus pizzas favoritas.\n",
    "       Guarde estos nombres en una lista y use un bucle for para imprimir el \n",
    "       nombre de cada pizza. \n",
    "\n",
    "•​Modifique su bucle for para imprimir una oración usando el nombre de la pizza en vez de solo el nombre.\n",
    "\n",
    "Para cada pizza debería tener al menos una línea de salida con una oración simple, como \"Me gusta la pizza de pepperoni\". \n"
   ]
  },
  {
   "cell_type": "code",
   "execution_count": 1,
   "id": "675aef01",
   "metadata": {},
   "outputs": [
    {
     "name": "stdout",
     "output_type": "stream",
     "text": [
      "\n",
      "Me gusta la pizza de Funghi\n",
      "\n",
      "Me gusta la pizza de Peperoni\n",
      "\n",
      "Me gusta la pizza de Rucula\n"
     ]
    }
   ],
   "source": [
    "pizzas = ['Funghi','Peperoni','Rucula']\n",
    "for pizza in pizzas:\n",
    "    print(f\"\\nMe gusta la pizza de {pizza.title()}\")\n"
   ]
  },
  {
   "cell_type": "markdown",
   "id": "1e219c6c",
   "metadata": {},
   "source": [
    "\n",
    "•​Añada una línea al final del programa, fuera del bucle, que indique cuánto le gusta la pizza. \n",
    " \n",
    "La salida debería tener tres o más líneas sobre sus pizzas favoritas y al final una frase adicional, como \"¡Me encanta la pizza! \n"
   ]
  },
  {
   "cell_type": "code",
   "execution_count": 2,
   "id": "583fa8c5",
   "metadata": {},
   "outputs": [
    {
     "name": "stdout",
     "output_type": "stream",
     "text": [
      "\n",
      "Me encanta la pizza\n",
      "\n"
     ]
    }
   ],
   "source": [
    "\n",
    "print(\"\\nMe encanta la pizza\\n\")"
   ]
  },
  {
   "cell_type": "markdown",
   "id": "3d820912",
   "metadata": {},
   "source": [
    "​4-2.  Animales: Piense en al menos tres animales diferentes que tengan una característica en común. \n",
    "      Guarde los nombres de estos animales en una lista y use un bucle for para imprimir el nombre de cada animal."
   ]
  },
  {
   "cell_type": "code",
   "execution_count": null,
   "id": "0e8b71b4",
   "metadata": {},
   "outputs": [],
   "source": [
    "animales = ['Perro','Gato','Delfin']\n",
    "for animal in animales:\n",
    "    print(animal)\n"
   ]
  },
  {
   "cell_type": "markdown",
   "id": "2140214b",
   "metadata": {},
   "source": [
    "• ​Modifique su programa para imprimir una oración sobre cada animal, \n",
    "como \"Un perro sería una excelente mascota\"."
   ]
  },
  {
   "cell_type": "code",
   "execution_count": null,
   "id": "0d091f9d",
   "metadata": {},
   "outputs": [],
   "source": [
    "print(f\"\\nAlgún día voy a tener 2 {animales[0]}s\")\n",
    "print(f\"\\nCapaz que voy a tener 1 {animales[1]}\")\n",
    "print(f\"\\nCreo que en otra vida fui un {animales[2]}\")"
   ]
  },
  {
   "cell_type": "markdown",
   "id": "a6d8c7de",
   "metadata": {},
   "source": [
    "\n",
    "• ​Añada una línea al final del programa diciendo qué tienen estos animales en común. Podría imprimir"
   ]
  },
  {
   "cell_type": "code",
   "execution_count": 3,
   "id": "6f31b218",
   "metadata": {},
   "outputs": [
    {
     "name": "stdout",
     "output_type": "stream",
     "text": [
      "\n",
      "Todos ellos son mamíferos\n",
      "\n"
     ]
    }
   ],
   "source": [
    "\n",
    "print(\"\\nTodos ellos son mamíferos\\n\")"
   ]
  },
  {
   "cell_type": "markdown",
   "id": "712d74e0",
   "metadata": {},
   "source": [
    "\n",
    "4-3.   Contar hasta veinte: Use un bucle for para imprimir los números del 1 al 20, ambos incluidos. "
   ]
  },
  {
   "cell_type": "code",
   "execution_count": null,
   "id": "d0f56630",
   "metadata": {},
   "outputs": [],
   "source": [
    "for numero in range(0,21):\n",
    "    print(numero)"
   ]
  },
  {
   "cell_type": "markdown",
   "id": "89651773",
   "metadata": {},
   "source": [
    "​4-4.   Un millón: Haga una lista de números de uno a un millón y luego use un bucle for para \n",
    "       imprimir los números. (Si la salida tarda mucho, deténgala pulsando Control-C o cerrando la ventana de salida)."
   ]
  },
  {
   "cell_type": "code",
   "execution_count": 9,
   "id": "f4e3ad3a",
   "metadata": {},
   "outputs": [
    {
     "name": "stdout",
     "output_type": "stream",
     "text": [
      "[0, 1, 2, 3, 4, 5, 6, 7, 8, 9]\n",
      "['P', 'o', 'l', ' ', 'A', 'l', 'o', 'm', 'a', 'r']\n"
     ]
    }
   ],
   "source": [
    "\n",
    "unmillon = [value for value in range(0,10)]\n",
    "print(unmillon) \n",
    "\n",
    "nombre = [value for value in \"Pol Alomar\"]\n",
    "print(nombre)"
   ]
  },
  {
   "cell_type": "markdown",
   "id": "e3999b93",
   "metadata": {},
   "source": [
    "\n",
    "4-5.   Sumar un millón: Haga una lista de los números del uno al millón y use min() y max() para asegurarse de que su lista empieza realmente en uno y acaba en un millón. Utilice también la función sum() \n",
    "para ver lo rápido que Python puede sumar un millón de números."
   ]
  },
  {
   "cell_type": "code",
   "execution_count": 10,
   "id": "282e0856",
   "metadata": {},
   "outputs": [
    {
     "name": "stdout",
     "output_type": "stream",
     "text": [
      "45\n",
      "9\n",
      "0\n"
     ]
    }
   ],
   "source": [
    "print(sum(unmillon))\n",
    "print(max(unmillon))\n",
    "print(min(unmillon))"
   ]
  },
  {
   "cell_type": "markdown",
   "id": "63de4a32",
   "metadata": {},
   "source": [
    "4-6.   Números impares: Use el tercer argumento de la función range() para hacer una lista de los números impares comprendidos entre 1 y 20. Utilice un bucle for para imprimir cada número."
   ]
  },
  {
   "cell_type": "code",
   "execution_count": 11,
   "id": "acca87bf",
   "metadata": {},
   "outputs": [
    {
     "name": "stdout",
     "output_type": "stream",
     "text": [
      "[1, 3, 5, 7, 9, 11, 13, 15, 17, 19]\n",
      "1\n",
      "3\n",
      "5\n",
      "7\n",
      "9\n",
      "11\n",
      "13\n",
      "15\n",
      "17\n",
      "19\n"
     ]
    }
   ],
   "source": [
    "impares = list(range(1, 20, 2)) \n",
    "print(impares)\n",
    "for impar in impares:\n",
    "    print(impar)"
   ]
  },
  {
   "cell_type": "markdown",
   "id": "b481f339",
   "metadata": {},
   "source": [
    "​4-7    Treses: Haga una lista de los múltiplos de 3 comprendidos entre el 3 y el 30. Use un bucle for  para imprimir los números de la lista."
   ]
  },
  {
   "cell_type": "code",
   "execution_count": 12,
   "id": "febdd8fd",
   "metadata": {},
   "outputs": [
    {
     "name": "stdout",
     "output_type": "stream",
     "text": [
      "0\n",
      "3\n",
      "6\n",
      "9\n",
      "12\n",
      "15\n",
      "18\n",
      "21\n",
      "24\n",
      "27\n"
     ]
    }
   ],
   "source": [
    "treses = list(range(0, 30, 3)) \n",
    "for tres in treses:\n",
    "    print(tres)"
   ]
  },
  {
   "cell_type": "markdown",
   "id": "c4e07903",
   "metadata": {},
   "source": [
    "​4-8.   Cubos: Un número elevado a la tercera potencia es un cubo. Por ejemplo, el cubo de 2 se escribe  como 2**3 en Python. Haga una lista de los 10 primeros cubos (es decir, el cubo de cada entero entre 1 y 10) y use un bucle for para imprimir el valor de cada cubo."
   ]
  },
  {
   "cell_type": "code",
   "execution_count": 13,
   "id": "24cf58c0",
   "metadata": {},
   "outputs": [
    {
     "name": "stdout",
     "output_type": "stream",
     "text": [
      "0\n",
      "1\n",
      "8\n",
      "27\n",
      "64\n",
      "125\n",
      "216\n",
      "343\n",
      "512\n",
      "729\n",
      "1000\n"
     ]
    }
   ],
   "source": [
    "cubos = [cubo**3 for cubo in range(0,11)]\n",
    "for cubo in cubos:\n",
    "    print(cubo)"
   ]
  },
  {
   "cell_type": "markdown",
   "id": "15fa8acc",
   "metadata": {},
   "source": [
    "4-9.   Comprensión de cubos: Use una lista por comprensión de los 10 primeros cubos.\n",
    "\n",
    "?????"
   ]
  },
  {
   "cell_type": "markdown",
   "id": "dcc54a02",
   "metadata": {},
   "source": [
    "\n",
    "4-10.  Trozos: Partiendo de uno de los programas que hemos escrito en este capítulo, añada varias líneas al final que hagan lo siguiente:\n",
    "\n",
    "•​Imprimir el mensaje \"Estos son los tres primeros elementos de la lista:\". \n",
    "A continuación, use un trozo para imprimir los tres primeros elementos de la lista de ese programa."
   ]
  },
  {
   "cell_type": "code",
   "execution_count": 14,
   "id": "6e54b7ab",
   "metadata": {},
   "outputs": [
    {
     "name": "stdout",
     "output_type": "stream",
     "text": [
      "\n",
      "Estos son los 3 primeros elementos de la lista:\n",
      "[0, 3, 6]\n",
      "0\n",
      "3\n",
      "6\n"
     ]
    }
   ],
   "source": [
    "print(f\"\\nEstos son los 3 primeros elementos de la lista:\")\n",
    "print(treses[:3])\n",
    "for tres in treses[:3]:\n",
    "    print(tres)"
   ]
  },
  {
   "cell_type": "markdown",
   "id": "8923a625",
   "metadata": {},
   "source": [
    "• ​Imprimir el mensaje \"Estos tres elementos están en el medio de la lista:\".A continuación, use un trozo para imprimir los tres elementos centrales de la lista."
   ]
  },
  {
   "cell_type": "code",
   "execution_count": null,
   "id": "afde0100",
   "metadata": {},
   "outputs": [],
   "source": [
    "print(f\"\\nEstos son los 3 elementos centrales de la lista:\")\n",
    "print(treses[2:5])"
   ]
  },
  {
   "cell_type": "markdown",
   "id": "0bc44dbb",
   "metadata": {},
   "source": [
    "•​ Imprimir el mensaje \"Estos son los tres últimos elementos de la lista:\". A continuación, use un trozo para imprimir los tres últimos elementos de la lista. "
   ]
  },
  {
   "cell_type": "code",
   "execution_count": 15,
   "id": "953555c4",
   "metadata": {},
   "outputs": [
    {
     "name": "stdout",
     "output_type": "stream",
     "text": [
      "\n",
      "Estos son los tres últimos elementos de la lista:\n",
      "[21, 24, 27]\n"
     ]
    }
   ],
   "source": [
    "print(f\"\\nEstos son los tres últimos elementos de la lista:\")\n",
    "print(treses[-3:])"
   ]
  },
  {
   "cell_type": "markdown",
   "id": "dc220aa8",
   "metadata": {},
   "source": [
    "​4-11.  Mis pizzas, sus pizzas: Empiece con el programa del ejercicio \n",
    "\n",
    "4-1. Haga una copia de la lista de pizzas y llámela friend_pizzas. A continuación, haga lo siguiente: "
   ]
  },
  {
   "cell_type": "code",
   "execution_count": 16,
   "id": "042213e0",
   "metadata": {},
   "outputs": [],
   "source": [
    "\n",
    "friend_pizzas = pizzas[:]"
   ]
  },
  {
   "cell_type": "markdown",
   "id": "60d9de31",
   "metadata": {},
   "source": [
    "• ​Añada una pizza nueva a la lista original."
   ]
  },
  {
   "cell_type": "code",
   "execution_count": 18,
   "id": "48a328ae",
   "metadata": {},
   "outputs": [],
   "source": [
    "\n",
    "pizzas.append('Margharita')"
   ]
  },
  {
   "cell_type": "markdown",
   "id": "f451278c",
   "metadata": {},
   "source": [
    "\n",
    "• ​Añada una pizza diferente a la lista friend_pizzas. "
   ]
  },
  {
   "cell_type": "code",
   "execution_count": null,
   "id": "a951d9be",
   "metadata": {},
   "outputs": [],
   "source": [
    "friend_pizzas.append('Fetuccini')"
   ]
  },
  {
   "cell_type": "markdown",
   "id": "541054d1",
   "metadata": {},
   "source": [
    "• ​Compruebe que tiene dos listas separadas. Imprima el mensaje \"Mis pizzas favoritas son:\" y luego use un bucle for para imprimir la primera lista. Imprima el mensaje \"Las pizzas favoritas de mi amigo son:\" y después utilice un bucle for para imprimir la segunda lista. Asegúrese de que cada pizza se guarda en la lista adecuada."
   ]
  },
  {
   "cell_type": "code",
   "execution_count": 19,
   "id": "a1bdb254",
   "metadata": {},
   "outputs": [
    {
     "name": "stdout",
     "output_type": "stream",
     "text": [
      "\n",
      "Mis pizzas favoritas sin:\n",
      "['Funghi', 'Peperoni', 'Rucula', 'Margharita']\n",
      "\n",
      "Las pizzas favoritas de mi amigo son:\n",
      "Funghi\n",
      "Peperoni\n",
      "Rucula\n"
     ]
    }
   ],
   "source": [
    "print(\"\\nMis pizzas favoritas sin:\")\n",
    "print(pizzas)\n",
    "print(\"\\nLas pizzas favoritas de mi amigo son:\")\n",
    "for pizza in friend_pizzas:\n",
    "    print(pizza)"
   ]
  },
  {
   "cell_type": "markdown",
   "id": "e6520227",
   "metadata": {},
   "source": [
    " ​4-12.  Más bucles: Todas las versiones de foods.py de esta sección han evitado usar bucles for al imprimir para ahorrar espacio. Elija una versión de foods.py y escriba dos bucles para imprimir cada lista de comida."
   ]
  },
  {
   "cell_type": "code",
   "execution_count": null,
   "id": "90fe9be6",
   "metadata": {},
   "outputs": [
    {
     "name": "stdout",
     "output_type": "stream",
     "text": [
      "pizza\n",
      "falafel\n",
      "carrot cake\n"
     ]
    }
   ],
   "source": [
    "my_foods = ['pizza', 'falafel', 'carrot cake'] \n",
    "for food in my_foods:\n",
    "    print(food)"
   ]
  },
  {
   "cell_type": "markdown",
   "id": "f110dee5",
   "metadata": {},
   "source": [
    "4-13.  Bufé: Un restaurante de tipo bufé ofrece solo cinco comidas básicas. Piense en cinco platos básicos y guárdelos en una tupla. \n",
    "​Use un bucle for para imprimir cada comida que ofrece el restaurante. "
   ]
  },
  {
   "cell_type": "code",
   "execution_count": 21,
   "id": "c6467264",
   "metadata": {},
   "outputs": [
    {
     "name": "stdout",
     "output_type": "stream",
     "text": [
      "Macarrones\n",
      "Pizza bolognesa\n",
      "Callos\n",
      "Bravas\n",
      "Boquerones\n"
     ]
    }
   ],
   "source": [
    "platos = ('Macarrones','Pizza bolognesa','Callos','Bravas','Boquerones')\n",
    "for plato in platos:\n",
    "    print(plato)"
   ]
  },
  {
   "cell_type": "markdown",
   "id": "7f4e2437",
   "metadata": {},
   "source": [
    "•​Intente modificar alguno de los elementos y asegúrese de que Python rechaza el cambio.\n",
    " "
   ]
  },
  {
   "cell_type": "code",
   "execution_count": 23,
   "id": "ddb90339",
   "metadata": {},
   "outputs": [],
   "source": [
    "# platos[1]='Tapas varias' Error: 'tuple' object does not support item assignment"
   ]
  },
  {
   "cell_type": "markdown",
   "id": "8d3ad588",
   "metadata": {},
   "source": [
    "\n",
    "#           •​El restaurante cambia su menú, sustituyendo dos elementos por comidas diferentes. Añada una línea \n",
    "#           que rehaga la tupla y use un bucle for para imprimir cada uno de los elementos del menú modificado.\n"
   ]
  },
  {
   "cell_type": "code",
   "execution_count": 24,
   "id": "28f99f96",
   "metadata": {},
   "outputs": [
    {
     "name": "stdout",
     "output_type": "stream",
     "text": [
      "Macarrones\n",
      "Carpaccio\n",
      "Cesar\n",
      "Bravas\n",
      "Boquerones\n"
     ]
    }
   ],
   "source": [
    "platos = ('Macarrones','Carpaccio','Cesar','Bravas','Boquerones')\n",
    "for plato in platos:\n",
    "    print(plato)"
   ]
  },
  {
   "cell_type": "markdown",
   "id": "fb7e22f3",
   "metadata": {},
   "source": [
    "\n",
    "•​4-14. PEP 8: Eche un vistazo a la guía de estilo original (en inglés) de la PEP 8,  en https://python.org/dev/peps/pep-0008/. Todavía no le dará un gran uso, pero no está de más echarle un vistazo. "
   ]
  },
  {
   "cell_type": "markdown",
   "id": "13ce66d5",
   "metadata": {},
   "source": [
    "\n",
    "4-15. Revisión de código: Elija tres de los programas que ha escrito en este capítulo y modifíquelos para ajustarlos a la PEP 8: \n",
    "\n",
    "•​Use cuatro espacios por cada nivel de sangrado. Configure el editor de texto para insertar cuatro espacios cada vez que pulse Tab, si es que no lo ha hecho ya (consulte el apéndice B si necesita instrucciones). \n",
    "\n",
    "•​Use menos de 80 caracteres en cada línea y configure su editor para que muestre una guía vertical en la posición del 80º carácter. \n",
    "\n",
    "•​No abuse de las líneas en blanco en sus archivos de programa.\n",
    "\n",
    "# D O N E"
   ]
  }
 ],
 "metadata": {
  "kernelspec": {
   "display_name": "Python 3",
   "language": "python",
   "name": "python3"
  },
  "language_info": {
   "codemirror_mode": {
    "name": "ipython",
    "version": 3
   },
   "file_extension": ".py",
   "mimetype": "text/x-python",
   "name": "python",
   "nbconvert_exporter": "python",
   "pygments_lexer": "ipython3",
   "version": "3.11.9"
  }
 },
 "nbformat": 4,
 "nbformat_minor": 5
}
