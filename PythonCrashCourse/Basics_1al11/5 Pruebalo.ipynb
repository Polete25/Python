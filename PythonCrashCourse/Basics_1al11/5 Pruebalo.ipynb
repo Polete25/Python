{
 "cells": [
  {
   "cell_type": "markdown",
   "id": "e22d6bcf",
   "metadata": {},
   "source": [
    "5-1.   Pruebas condicionales: Escriba una serie de pruebas condicionales. \n",
    "       Imprima una frase describiendo cada prueba y su predicción para el \n",
    "       resultado."
   ]
  },
  {
   "cell_type": "code",
   "execution_count": 1,
   "id": "3f730930",
   "metadata": {},
   "outputs": [
    {
     "name": "stdout",
     "output_type": "stream",
     "text": [
      "Is car == 'subaru'? I predict True.\n",
      "True\n",
      "\n",
      "Is car == 'audi'? I predict False.\n",
      "False\n"
     ]
    }
   ],
   "source": [
    "car = 'subaru'\n",
    "print(\"Is car == 'subaru'? I predict True.\") \n",
    "print(car == 'subaru') \n",
    "print(\"\\nIs car == 'audi'? I predict False.\") \n",
    "print(car == 'audi')"
   ]
  },
  {
   "cell_type": "markdown",
   "id": "a46d9928",
   "metadata": {},
   "source": [
    "•​ Examine los resultados y asegúrese de comprender por qué cada línea se evalúa como True o False. \n",
    "\n",
    "• ​Cree al menos 10 pruebas y haga que 5, como mínimo, se evalúen como True y otras 5 como False."
   ]
  },
  {
   "cell_type": "code",
   "execution_count": 2,
   "id": "5aa2ed7c",
   "metadata": {},
   "outputs": [
    {
     "name": "stdout",
     "output_type": "stream",
     "text": [
      "False\n",
      "True\n",
      "False\n",
      "Old\n",
      "False\n",
      "False\n",
      "False\n"
     ]
    }
   ],
   "source": [
    "name = 'Pol'\n",
    "age = 30\n",
    "status = 'lost'\n",
    "nationality = 'Unokwn'\n",
    "relationship = 'none'\n",
    "\n",
    "print(name == 'Carlos')\n",
    "print(name == 'Pol')\n",
    "print(age == 'young')\n",
    "if age > 29:\n",
    "    print('Old')\n",
    "print(status == 'improving')\n",
    "print(relationship == 'married')\n",
    "print(nationality == 'Russian')"
   ]
  },
  {
   "cell_type": "markdown",
   "id": "f3eba47a",
   "metadata": {},
   "source": [
    "5-2.  Más pruebas condicionales: No hace falta que limite el número de pruebas condicionales a diez. Si quiere probar más comparaciones, escriba más pruebas y añádalas a conditional_tests.py. Haga que un resultado sea True y otro False para cada una de estas pruebas: \n",
    "\n",
    "• ​Pruebas de igualdad y desigualdad con cadenas. "
   ]
  },
  {
   "cell_type": "code",
   "execution_count": null,
   "id": "685e2e5b",
   "metadata": {},
   "outputs": [],
   "source": [
    "print(name == 'Pol' and age == 30)\n",
    "print(status == 'improving' and age < 25)"
   ]
  },
  {
   "cell_type": "markdown",
   "id": "e4f10a8c",
   "metadata": {},
   "source": [
    "• Pruebas con el método lower()."
   ]
  },
  {
   "cell_type": "code",
   "execution_count": null,
   "id": "6d0b4d70",
   "metadata": {},
   "outputs": [],
   "source": [
    "print(name.lower() == 'pol')"
   ]
  },
  {
   "cell_type": "markdown",
   "id": "74b0a956",
   "metadata": {},
   "source": [
    "\n",
    "• ​Pruebas numéricas que impliquen igualdad y desigualdad, mayor que y menor que, mayor o igual que y menor o igual que.\n",
    "\n",
    "• ​Pruebas con las palabras clave and y or. \n"
   ]
  },
  {
   "cell_type": "code",
   "execution_count": null,
   "id": "be3502b2",
   "metadata": {},
   "outputs": [],
   "source": [
    "print(age > 5 and age == 30)\n",
    "print(age != 5 or age == 23)"
   ]
  },
  {
   "cell_type": "markdown",
   "id": "a1c8af60",
   "metadata": {},
   "source": [
    "• ​Prueba para comprobar si un elemento está en una lista. \n"
   ]
  },
  {
   "cell_type": "code",
   "execution_count": 3,
   "id": "52602bc1",
   "metadata": {},
   "outputs": [
    {
     "name": "stdout",
     "output_type": "stream",
     "text": [
      "True\n"
     ]
    }
   ],
   "source": [
    "sports = ['Surf','Football','Basketball','Volleyball','Padel','Tenis']\n",
    "print('Surf' in sports)\n"
   ]
  },
  {
   "cell_type": "markdown",
   "id": "2066365e",
   "metadata": {},
   "source": [
    "• ​Prueba para comprobar si un elemento no está en una lista.\n"
   ]
  },
  {
   "cell_type": "code",
   "execution_count": 4,
   "id": "6f9de8c4",
   "metadata": {},
   "outputs": [
    {
     "name": "stdout",
     "output_type": "stream",
     "text": [
      "False\n"
     ]
    }
   ],
   "source": [
    "print('Surf' not in sports)"
   ]
  },
  {
   "cell_type": "markdown",
   "id": "49081998",
   "metadata": {},
   "source": [
    "\n",
    "\n",
    "5-3.   Colores de aliens #1: Imagine un alien que acaba de ser derribado en un juego. Cree una variable llamada color_alien y asígnele como valor 'verde', 'amarillo' o 'rojo'. \n"
   ]
  },
  {
   "cell_type": "code",
   "execution_count": 18,
   "id": "96cc69ba",
   "metadata": {},
   "outputs": [],
   "source": [
    "color_alien = 'verde'"
   ]
  },
  {
   "cell_type": "markdown",
   "id": "f3240f4e",
   "metadata": {},
   "source": [
    "\n",
    "• ​Escriba una sentencia if para comprobar si el color del alien es \n",
    "verde.\n",
    "\n",
    "Si lo es, imprima un mensaje informando al jugador de que \n",
    "ha ganado 5 puntos. \n"
   ]
  },
  {
   "cell_type": "code",
   "execution_count": 19,
   "id": "1c7ccd78",
   "metadata": {},
   "outputs": [
    {
     "name": "stdout",
     "output_type": "stream",
     "text": [
      "Has ganado 5 puntos\n"
     ]
    }
   ],
   "source": [
    "if color_alien == 'verde':\n",
    "    print('Has ganado 5 puntos')"
   ]
  },
  {
   "cell_type": "markdown",
   "id": "4ba4455d",
   "metadata": {},
   "source": [
    "\n",
    "• ​Escriba una versión de este programa que pase la prueba if y otra que no. (La versión que no supera la prueba no tendrá salida).\n"
   ]
  },
  {
   "cell_type": "code",
   "execution_count": 20,
   "id": "8604f65c",
   "metadata": {},
   "outputs": [],
   "source": [
    "if color_alien == 'rojo':\n",
    "    pass"
   ]
  },
  {
   "cell_type": "markdown",
   "id": "510eb34b",
   "metadata": {},
   "source": [
    "\n",
    " \n",
    "5-4.  Colores de aliens #2: \n",
    "\n",
    "Elija un color para un alien igual que en el ejercicio 5-3 y escriba una cadena if-else. \n",
    "\n",
    "• ​Si el color del alien es verde, imprima un mensaje informando al jugador de que ha ganado 5 puntos por disparar al alien. \n"
   ]
  },
  {
   "cell_type": "code",
   "execution_count": null,
   "id": "0900e1f7",
   "metadata": {},
   "outputs": [],
   "source": [
    "if color_alien == 'verde':\n",
    "    print('Has ganado 5 puntos')\n"
   ]
  },
  {
   "cell_type": "markdown",
   "id": "e8492d37",
   "metadata": {},
   "source": [
    "• ​Si el color del extraterrestre no es verde, imprima una frase informando al jugador de que acaba de ganar 10 puntos. \n"
   ]
  },
  {
   "cell_type": "code",
   "execution_count": null,
   "id": "c676a693",
   "metadata": {},
   "outputs": [],
   "source": [
    "if color_alien != 'verde':\n",
    "    print('Has ganado 10 puntos') \n"
   ]
  },
  {
   "cell_type": "markdown",
   "id": "468c7215",
   "metadata": {},
   "source": [
    "• ​Escriba una versión de este programa que ejecute el bloque if y otra que ejecute el bloque else. \n"
   ]
  },
  {
   "cell_type": "code",
   "execution_count": null,
   "id": "06618fe3",
   "metadata": {},
   "outputs": [],
   "source": [
    "if color_alien == 'verde':\n",
    "    print('Has ganado 5 puntos')\n",
    "else:\n",
    "    print('Has ganado 10 puntos')\n"
   ]
  },
  {
   "cell_type": "markdown",
   "id": "c18b2e8a",
   "metadata": {},
   "source": [
    "​5-5.  Colores de aliens #3: Convierta la cadena if-else del 5-4 en una cadena if-elif-else. \n",
    "\n",
    "• ​Si el alien es verde, imprima un mensaje diciendo al jugador que ha ganado 5 puntos. \n",
    "\n",
    "•​ Si el alien es amarillo, imprima un mensaje diciendo al jugador que ha ganado 10 puntos. \n",
    "           \n",
    "• ​Si el alien es rojo, imprima un mensaje diciendo al jugador que ha ganado 15 puntos."
   ]
  },
  {
   "cell_type": "code",
   "execution_count": null,
   "id": "8a595184",
   "metadata": {},
   "outputs": [],
   "source": [
    "if color_alien == 'verde':\n",
    "    print('Has ganado 5 puntos')\n",
    "\n",
    "elif color_alien == 'rojoamarillo':\n",
    "    print('Has ganado 10 puntos')   \n",
    " \n",
    "elif color_alien == 'rojo':\n",
    "    print('Has ganado 15 puntos')  \n"
   ]
  },
  {
   "cell_type": "markdown",
   "id": "e497c755",
   "metadata": {},
   "source": [
    "• ​Escriba tres versiones de este programa, asegurándose de que se imprime cada mensaje para el color de alien adecuado. \n",
    "       "
   ]
  },
  {
   "cell_type": "markdown",
   "id": "db919159",
   "metadata": {},
   "source": [
    "​5-6.  Etapas vitales: Escriba una cadena if-elif-else para determinar la etapa vital de una persona Atribuya un valor a la variable edad y: \n",
    "\n",
    "• ​Si la persona tiene menos de 2 años, imprima un mensaje diciendo que es un bebé. \n",
    "\n",
    "• ​Si la persona tiene entre 2 y 4 años, imprima un mensaje diciendo que es un niño pequeño. \n",
    "\n",
    "• ​Si la persona tiene como mínimo 4 años, pero menos de 13, imprima un mensaje diciendo que es un niño. \n",
    "\n",
    "• ​Si la persona tiene como mínimo 13 años, pero menos de 20, imprima un mensaje diciendo que es un adolescente. \n",
    "\n",
    "• ​Si la persona tiene al menos 20 años, pero no llega a 65, imprima un mensaje diciendo que es un adulto. \n",
    "\n",
    "• ​Si la persona tiene 65 años o más, imprima un mensaje diciendo que tiene más de 65 años. \n"
   ]
  },
  {
   "cell_type": "code",
   "execution_count": 8,
   "id": "974bd67c",
   "metadata": {},
   "outputs": [
    {
     "name": "stdout",
     "output_type": "stream",
     "text": [
      "Adulto\n"
     ]
    }
   ],
   "source": [
    "edad = 31\n",
    "\n",
    "if edad < 2:\n",
    "    print('Bebe')   \n",
    "\n",
    "elif edad >= 2 and edad < 4:\n",
    "    print('Niño pequeño')\n",
    "\n",
    "elif edad >= 4 and edad < 13: \n",
    "    print('Niño')\n",
    "\n",
    "elif edad >= 13 and edad < 20: \n",
    "    print('Adolescente')       \n",
    "\n",
    "elif edad >= 20 and edad < 65: \n",
    "    print('Adulto') \n",
    "\n",
    "elif edad >= 65: \n",
    "    print('+65')  "
   ]
  },
  {
   "cell_type": "markdown",
   "id": "a6168715",
   "metadata": {},
   "source": [
    " \n",
    "​5-7.   Fruta favorita: Haga una lista de sus frutas favoritas y escriba una serie de sentencias if independientes que comprueben ciertas frutas en su lista.\n",
    "\n",
    "•​ Haga una lista de sus frutas favoritas y llámela frutas_favoritas.\n",
    "\n",
    "• ​Escriba cinco sentencias if. Cada una debería comprobar si una fruta concreta está en su lista. Si lo está, el bloque if debería imprimir un mensaje como \"¡Pues sí que te gustan los plátanos!\"."
   ]
  },
  {
   "cell_type": "code",
   "execution_count": 12,
   "id": "ea62521f",
   "metadata": {},
   "outputs": [
    {
     "name": "stdout",
     "output_type": "stream",
     "text": [
      "Pues si que te gustan los platanos\n",
      "Las Manzanas parece que no\n",
      "Pues si que te gustan los kiwis\n"
     ]
    }
   ],
   "source": [
    "frutas = ['Platano','Naranja','Kiwi']\n",
    "\n",
    "if 'Platano' in frutas:\n",
    "    print('Pues si que te gustan los platanos')\n",
    "if 'Manzana' in frutas:\n",
    "    print('Pues si que te gustan los Manzanas')\n",
    "else:\n",
    "    print('Las Manzanas parece que no')\n",
    "if 'Kiwi' in frutas:\n",
    "    print('Pues si que te gustan los kiwis')\n",
    "    "
   ]
  },
  {
   "cell_type": "markdown",
   "id": "76edf91b",
   "metadata": {},
   "source": [
    "\n",
    "5-8.   Hola, Admin: Cree una lista de cinco o más nombres de usuario, incluyendo el nombre 'admin'. Imagine que está escribiendo código que imprimirá un mensaje para cada usuario cuando inicien sesión en un sitio web. Pase en bucle por la lista e imprima un saludo para cada usuario:\n",
    "\n",
    "• ​Si el nombre de usuario es 'admin', imprima un saludo especial, como \"Hola, admin, ¿quieres ver un informe de estado?\". \n"
   ]
  },
  {
   "cell_type": "code",
   "execution_count": null,
   "id": "9d2377f1",
   "metadata": {},
   "outputs": [
    {
     "name": "stdout",
     "output_type": "stream",
     "text": [
      "Hola Aadmin, gracias por volver a entrar\n",
      "Hola Usuario1, gracias por volver a entrar\n",
      "Hola Usuario2, gracias por volver a entrar\n",
      "Hola Usuario3, gracias por volver a entrar\n",
      "Hola Usuario4, gracias por volver a entrar\n",
      "Hola Usuario5, gracias por volver a entrar\n"
     ]
    }
   ],
   "source": [
    "usuarios = ['Aadmin','Usuario1','Usuario2','Usuario3','Usuario4','Usuario5']           \n",
    "\n",
    "if usuarios:\n",
    "    for usuario in usuarios:\n",
    "        if usuario == 'Admin':\n",
    "            print('Hola, admin, ¿Quieres ver un informe de estado?')\n",
    "            \n",
    "#           •​De lo contrario, imprima un saludo genérico, como \"Hola, Juan, \n",
    "#           gracias por volver a entrar\". \n",
    "\n",
    "        else: \n",
    "            print(f'Hola {usuario}, gracias por volver a entrar')\n"
   ]
  },
  {
   "cell_type": "markdown",
   "id": "3e7031d9",
   "metadata": {},
   "source": [
    "5-9.   Sin usuarios: Añada una prueba if al programa del ejercicio anterior (hello_admin.py) para asegurarse de que la lista no está vacía.        \n",
    "\n",
    "•​ Si la lista está vacía, imprima el mensaje \"¡Necesitamos encontrar algún usuario!\". \n",
    "           \n",
    "• ​Borre todos los nombres de usuario de la lista y asegúrese de que se imprime el mensaje correcto. \n",
    "\n"
   ]
  },
  {
   "cell_type": "code",
   "execution_count": 14,
   "id": "de401a0d",
   "metadata": {},
   "outputs": [
    {
     "name": "stdout",
     "output_type": "stream",
     "text": [
      "Necesitamos encontrar usuarios\n"
     ]
    }
   ],
   "source": [
    "usuarios = []\n",
    "if usuarios:\n",
    "    for usuario in usuarios:\n",
    "        if usuario == 'Admin':\n",
    "            print('Hola, admin, ¿Quieres ver un informe de estado?')\n",
    "        else: \n",
    "            print(f'Hola {usuario}, gracias por volver a entrar')\n",
    "else:\n",
    "    print(\"Necesitamos encontrar usuarios\")\n"
   ]
  },
  {
   "cell_type": "markdown",
   "id": "35b94434",
   "metadata": {},
   "source": [
    "5-10.  Comprobar nombres de usuario: Haga lo siguiente para crear un programa que simule cómo los sitios web se aseguran de que todos los usuarios tienen un nombre único.\n",
    "\n",
    "• ​Cree una lista con cinco o más nombres de usuario llamada current_users. \n"
   ]
  },
  {
   "cell_type": "code",
   "execution_count": 15,
   "id": "5fb30431",
   "metadata": {},
   "outputs": [],
   "source": [
    "current_users = ['Pol','Nico','Chirs','Noe','Diego'] \n"
   ]
  },
  {
   "cell_type": "markdown",
   "id": "a9bf06eb",
   "metadata": {},
   "source": [
    "• ​Cree otra lista de cinco nombres de usuario llamada new_users. Asegúrese de que uno o dos de los nuevos nombres de usuario estén también en la lista current_users. \n",
    "\n",
    "• ​Pase en bucle por la lista new_users para ver si cada nuevo nombre de usuario está ya usado. Si lo está, imprima un mensaje diciendo al usuario que tendrá que introducir otro nombre. \n",
    "\n",
    "Si un nombre no se ha usado todavía, imprima un mensaje diciendo que el nombre de usuario está disponible.\n"
   ]
  },
  {
   "cell_type": "code",
   "execution_count": 18,
   "id": "d7bf4e73",
   "metadata": {},
   "outputs": [
    {
     "name": "stdout",
     "output_type": "stream",
     "text": [
      "El nombre de usuario está disponible.\n",
      "El usuario Noe ya está usado.\n",
      "El nombre de usuario está disponible.\n",
      "El nombre de usuario está disponible.\n",
      "El nombre de usuario está disponible.\n"
     ]
    }
   ],
   "source": [
    "new_users = ['pol','Noe','Fox','Adriana','Nicolás'] \n",
    "\n",
    "if new_users:\n",
    "    for new_user in new_users:\n",
    "        if new_user in current_users:\n",
    "            print(f\"El usuario {new_user} ya está usado.\")\n",
    "        else:\n",
    "            print(\"El nombre de usuario está disponible.\")\n",
    "     \n"
   ]
  },
  {
   "cell_type": "markdown",
   "id": "877101d2",
   "metadata": {},
   "source": [
    "• ​Asegúrese de que su comparación no distingue entre mayúsculas y minúsculas. Si se ha usado 'Juan', no debería aceptarse 'JUAN'. (Para hacer esto, necesitará una copia de current_users con la versión en minúsculas de todos los usuarios existentes). \n"
   ]
  },
  {
   "cell_type": "code",
   "execution_count": 19,
   "id": "34c0ecf5",
   "metadata": {},
   "outputs": [
    {
     "name": "stdout",
     "output_type": "stream",
     "text": [
      "El usuario pol ya está usado.\n",
      "El usuario Noe ya está usado.\n",
      "El nombre de usuario está disponible.\n",
      "El nombre de usuario está disponible.\n",
      "El nombre de usuario está disponible.\n"
     ]
    }
   ],
   "source": [
    "lower_current_users = [user.lower() for user in current_users]\n",
    "if new_users:\n",
    "    for new_user in new_users:\n",
    "        if new_user.lower() in lower_current_users:\n",
    "            print(f\"El usuario {new_user} ya está usado.\")\n",
    "        else:\n",
    "            print(\"El nombre de usuario está disponible.\")\n"
   ]
  },
  {
   "cell_type": "markdown",
   "id": "6fdcfdc0",
   "metadata": {},
   "source": [
    "​5-11. Números ordinales en inglés: Los números ordinales indican su posición \n",
    "       en una lista, como 1º, 2º, etc. En inglés, la mayoría terminan en th, \n",
    "       excepto el 1, el 2 y el 3, que terminan en st, nd y rd, respectivamente. \n",
    "           •​Guarde los números del 1 al 9 en una lista. \n",
    "\n",
    "           •​Pase en bucle por la lista. \n",
    "           •​Use una cadena if-elif-else dentro del bucle para imprimir \n",
    "           la terminación adecuada en inglés de cada número. La salida debería \n",
    "           ser \"1st 2nd 3rd 4th 5th 6th 7th 8th 9th\", y cada resultado debería \n",
    "           aparecer en una línea separada.\n"
   ]
  },
  {
   "cell_type": "code",
   "execution_count": 24,
   "id": "338a459a",
   "metadata": {},
   "outputs": [
    {
     "name": "stdout",
     "output_type": "stream",
     "text": [
      "1st\n",
      "2ns\n",
      "3rd\n",
      "4th\n",
      "5th\n",
      "6th\n",
      "7th\n",
      "8th\n",
      "9th\n",
      "10th\n"
     ]
    }
   ],
   "source": [
    "numeros = [value for value in range(1,11)]\n",
    "\n",
    "if numeros:\n",
    "    for numero in numeros:\n",
    "        if numero == 1:\n",
    "            print('1st')\n",
    "        elif numero == 2:\n",
    "            print('2ns')\n",
    "        elif numero == 3:    \n",
    "            print('3rd')\n",
    "        else:\n",
    "            print(f\"{numero}th\")\n"
   ]
  },
  {
   "cell_type": "markdown",
   "id": "91770bf7",
   "metadata": {},
   "source": [
    "\n",
    "5-12.  Dar estilo a sentencias if: Revise los programas que ha escrito en este\n",
    "       capítulo y asegúrese de que ha dado el estilo apropiado a sus pruebas\n",
    "       condicionales. \n",
    "\n",
    "​5-13.  Sus ideas: Llegados a este punto, ya es un programador más capacitado \n",
    "       que cuando empezó este libro. Ahora que tiene más idea de cómo se \n",
    "       modelan situaciones del mundo real en programas, es posible que ya \n",
    "       esté pensando en problemas a los que podría dar solución con sus \n",
    "       propios programas. Tome nota de cualquier idea que se le ocurra sobre \n",
    "       los problemas que podría interesarle resolver a medida que sus \n",
    "       habilidades de programación mejoran. Piense en los juegos que le \n",
    "       gustaría desarrollar, los conjuntos de datos que quiere explorar o las \n",
    "       aplicaciones web que le gustaría crear."
   ]
  }
 ],
 "metadata": {
  "kernelspec": {
   "display_name": "Python 3",
   "language": "python",
   "name": "python3"
  },
  "language_info": {
   "codemirror_mode": {
    "name": "ipython",
    "version": 3
   },
   "file_extension": ".py",
   "mimetype": "text/x-python",
   "name": "python",
   "nbconvert_exporter": "python",
   "pygments_lexer": "ipython3",
   "version": "3.11.9"
  }
 },
 "nbformat": 4,
 "nbformat_minor": 5
}
