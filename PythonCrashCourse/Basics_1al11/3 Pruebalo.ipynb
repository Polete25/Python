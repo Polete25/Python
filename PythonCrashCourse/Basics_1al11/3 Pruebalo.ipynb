{
 "cells": [
  {
   "cell_type": "markdown",
   "id": "562de59b",
   "metadata": {},
   "source": [
    "3-1.   Nombres: Guarde los nombres de unos cuantos amigos en una lista llamada nombres. \n",
    "       Imprima el nombre de cada persona accediendo al elemento correspondiente de la lista, \n",
    "       de uno en uno."
   ]
  },
  {
   "cell_type": "code",
   "execution_count": null,
   "id": "29eece68",
   "metadata": {},
   "outputs": [],
   "source": [
    "amigos = ['David','Oscar','Pablo','Podga','Pol','Quim','Rodri']\n",
    "print(amigos)\n",
    "print(amigos[0])\n",
    "print(amigos[1])\n",
    "print(amigos[2])\n",
    "print(amigos[3])\n",
    "print(amigos[4])\n",
    "print(amigos[-2])\n",
    "print(amigos[-1])"
   ]
  },
  {
   "cell_type": "markdown",
   "id": "0c3aceb6",
   "metadata": {},
   "source": [
    "3-2.   Saludos: Empiece con la lista del ejercicio 3-1, pero, en vez de solo imprimir \n",
    "       el nombre de cada persona, imprímales un mensaje. El texto debería ser el mismo,\n",
    "       pero cada mensaje debería personalizarse e incluir el nombre de la persona."
   ]
  },
  {
   "cell_type": "code",
   "execution_count": 6,
   "id": "72293fd3",
   "metadata": {},
   "outputs": [
    {
     "name": "stdout",
     "output_type": "stream",
     "text": [
      "\n",
      "Que tal David\n",
      "\n",
      "Que tal Oscar\n",
      "\n",
      "Que tal Pablo\n",
      "\n",
      "Que tal Podga\n",
      "\n",
      "Que tal Pol\n",
      "\n",
      "Que tal Quim\n",
      "\n",
      "Que tal Rodri\n"
     ]
    }
   ],
   "source": [
    "amigos = ['David','Oscar','Pablo','Podga','Pol','Quim','Rodri']\n",
    "message = 'Que tal '\n",
    "\n",
    "#print(f'\\n'+message+amigos[0])\n",
    "#print(f'\\n'+message+amigos[1])\n",
    "#print(f'\\n'+message+amigos[2])\n",
    "#print(f'\\n'+message+amigos[3])\n",
    "#print(f'\\n'+message+amigos[4])\n",
    "#print(f'\\n'+message+amigos[-2])\n",
    "#print(f'\\n'+message+amigos[-1])\n",
    "\n",
    "for amigo in amigos:\n",
    "    print(f'\\n'+message+amigo)"
   ]
  },
  {
   "cell_type": "markdown",
   "id": "a543cd57",
   "metadata": {},
   "source": [
    "​3-3.  Su propia lista: Piense en su medio de transporte favorito, como la moto o el coche,\n",
    "       y haga una lista que incluya varios ejemplos. Use la lista para imprimir una serie\n",
    "       de frases sobre esos elementos, como \"Me gustaría tener una moto Honda\"."
   ]
  },
  {
   "cell_type": "code",
   "execution_count": null,
   "id": "17667c97",
   "metadata": {},
   "outputs": [
    {
     "name": "stdout",
     "output_type": "stream",
     "text": [
      "\n",
      "Quiero comprarme una Honda CBR\n",
      "\n",
      "Quiero comprarme una Kawasaki 800\n",
      "\n",
      "Quiero comprarme una Triumph Scramble\n",
      "\n",
      "Quiero comprarme una Triumph Speed\n",
      "\n",
      "Quiero comprarme una Suzuki SV650\n",
      "\n",
      "Quiero comprarme una KTM Adventure 390\n"
     ]
    }
   ],
   "source": [
    "motos = ['Honda CBR','Kawasaki 800','Triumph Scramble','Triumph Speed','Suzuki SV650','KTM Adventure 390']\n",
    "quiero = 'Quiero comprarme una '\n",
    "\n",
    "print(f'\\n'+quiero+motos[0])\n",
    "print(f'\\n'+quiero+motos[1])\n",
    "print(f'\\n'+quiero+motos[2])\n",
    "print(f'\\n'+quiero+motos[3])\n",
    "print(f'\\n'+quiero+motos[4])\n",
    "print(f'\\n'+quiero+motos[5])"
   ]
  },
  {
   "cell_type": "markdown",
   "id": "8c36e5d4",
   "metadata": {},
   "source": [
    "3-4.   Lista de invitados: Si pudiese invitar a cualquiera, vivo o muerto, a cenar, ¿a quién invitaría?\n",
    "       Haga una lista de al menos tres personas a las que le gustaría invitar a una cena y úsela para\n",
    "       imprimir un mensaje para cada persona invitándole a cenar. "
   ]
  },
  {
   "cell_type": "code",
   "execution_count": 28,
   "id": "ac4ab198",
   "metadata": {},
   "outputs": [
    {
     "name": "stdout",
     "output_type": "stream",
     "text": [
      "\n",
      "Would you like to join us Albert E.?\n",
      "\n",
      "Would you like to join us Isaac N.?\n",
      "\n",
      "Would you like to join us Galileo G.?\n",
      "\n",
      "Would you like to join us Carl G.?\n",
      "\n"
     ]
    }
   ],
   "source": [
    "invitados = ['Albert E.','Isaac N.','Galileo G.','Carl G.']\n",
    "\n",
    "print(f'\\nWould you like to join us '+invitados[0]+'?')\n",
    "print(f'\\nWould you like to join us '+invitados[1]+'?')\n",
    "print(f'\\nWould you like to join us '+invitados[2]+'?')\n",
    "print(f'\\nWould you like to join us '+invitados[3]+'?'+'\\n')"
   ]
  },
  {
   "cell_type": "markdown",
   "id": "4ce3b035",
   "metadata": {},
   "source": [
    "3-5.  Cambiar la lista de invitados:\n",
    "Acaba de enterarse de que uno de sus invitados no podrá asistir, así que tiene que enviar un nuevo juego de invitaciones. Tendrá que pensar en otra persona para invitar. \n",
    "•​Empiece con el programa del ejercicio.\n",
    "\n",
    "3-4. Añada una llamada a print() al final del programa \n",
    "           indicando el nombre del invitado que no puede asistir. \n",
    "           •​Modifique la lista sustituyendo el nombre del invitado que no puede venir por el de otra persona\n",
    "           a la que va a invitar en su lugar. \n",
    "           •​Imprima un segundo grupo de mensajes de invitación, uno para cada persona que haya en la lista ahora.\n"
   ]
  },
  {
   "cell_type": "code",
   "execution_count": 14,
   "id": "d79238d5",
   "metadata": {},
   "outputs": [
    {
     "name": "stdout",
     "output_type": "stream",
     "text": [
      "\n",
      " Finnally Carl Gaus cannnot join us. Then, we are going to invite Joseph F.\n",
      "['Albert E.', 'Isaac N.', 'Galileo G.']\n",
      "\n",
      "Would you like to join us Albert E.?\n",
      "\n",
      "Would you like to join us Isaac N.?\n",
      "\n",
      "Would you like to join us Galileo G.?\n",
      "\n",
      "Would you like to join us Joseph F.?\n",
      "\n"
     ]
    }
   ],
   "source": [
    "print(f'\\n Finnally Carl Gaus cannnot join us. Then, we are going to invite Joseph F.')\n",
    "invitados = ['Albert E.','Isaac N.','Galileo G.','Carl G.']\n",
    "\n",
    "del invitados[3]\n",
    "print(invitados)\n",
    "invitados.append('Joseph F.')\n",
    "\n",
    "print(f'\\nWould you like to join us '+invitados[0]+'?')\n",
    "print(f'\\nWould you like to join us '+invitados[1]+'?')\n",
    "print(f'\\nWould you like to join us '+invitados[2]+'?')\n",
    "print(f'\\nWould you like to join us '+invitados[3]+'?'+'\\n')"
   ]
  },
  {
   "cell_type": "markdown",
   "id": "2c9db618",
   "metadata": {},
   "source": [
    "3-6. Más invitados: Acaba de encontrar una mesa más grande, así que dispone de más espacio. Piense en otros tres invitados más.\n",
    "\n",
    "• Empiece con el programa del ejercicio 3-4 o 3-5. Añada una llamada a print() al final para informar a la gente de que ha encontrado una mesa de comedor más grande.\n",
    "\n",
    "• Use insert() para añadir un nuevo invitado al principio de la lista.\n",
    "\n",
    "• Use insert() para añadir un nuevo invitado en mitad de la lista.\n",
    "\n",
    "• Use append() para añadir un nuevo invitado al final de la lista.\n",
    "\n",
    "• Imprima un nuevo juego de mensajes de invitación, uno para cada persona de la lista."
   ]
  },
  {
   "cell_type": "code",
   "execution_count": 15,
   "id": "549457d5",
   "metadata": {},
   "outputs": [
    {
     "name": "stdout",
     "output_type": "stream",
     "text": [
      "We find out a table with 3 mores spots, we are going to have other guesses\n",
      "\n",
      "Would you like to join us Joseph O.?\n",
      "\n",
      "Would you like to join us Albert E.?\n",
      "\n",
      "Would you like to join us Javier S.?\n",
      "\n",
      "Would you like to join us Isaac N.?\n",
      "\n",
      "Would you like to join us Galileo G.?\n",
      "\n",
      "Would you like to join us Joseph F.?\n",
      "\n"
     ]
    }
   ],
   "source": [
    "print('We find out a table with 3 mores spots, we are going to have other guesses')\n",
    "invitados.insert(0,'Joseph O.')\n",
    "invitados.insert(2,'Javier S.')\n",
    "invitados.append('Niels B.')\n",
    "\n",
    "print(f'\\nWould you like to join us '+invitados[0]+'?')\n",
    "print(f'\\nWould you like to join us '+invitados[1]+'?')\n",
    "print(f'\\nWould you like to join us '+invitados[2]+'?')\n",
    "print(f'\\nWould you like to join us '+invitados[3]+'?')\n",
    "print(f'\\nWould you like to join us '+invitados[4]+'?')\n",
    "print(f'\\nWould you like to join us '+invitados[5]+'?'+'\\n')"
   ]
  },
  {
   "cell_type": "markdown",
   "id": "795c81d9",
   "metadata": {},
   "source": [
    "​3-7.  Reducir la lista de invitados: Acaba de descubrir que la mesa no llegará a tiempo para la cena \n",
    "       y solo tiene espacio para dos invitados. \n",
    "\n",
    "• ​Empiece con el programa de 3-6. Añada una línea que imprima un mensaje diciendo que solo puede invitar a dos personas a cenar. \n",
    "       \n",
    "• ​Use pop() para eliminar invitados de la lista de uno en uno hasta que solo queden dos. Cada vez que retire un nombre de la lista, imprima un mensaje para esa persona diciendo que lo siente, pero que no puede invitarle a cenar. \n",
    "       \n",
    "• ​Imprima un mensaje para cada una de las dos personas que quedan en la lista informándoles de que siguen invitados. \n",
    "       \n",
    "• ​Use del para borrar los dos últimos nombres de la lista y que se quede vacía. \n",
    "\n",
    "Imprima la lista para asegurarse de que realmente tiene una lista vacía al final del programa."
   ]
  },
  {
   "cell_type": "code",
   "execution_count": 16,
   "id": "25904908",
   "metadata": {},
   "outputs": [
    {
     "name": "stdout",
     "output_type": "stream",
     "text": [
      "Sorry but we finally only have a table for 2...\n",
      "\n",
      " Sorry Niels B. but the dineer is cancelled.\n",
      "\n",
      " Sorry Joseph F. but the dineer is cancelled.\n",
      "\n",
      " Sorry Galileo G. but the dineer is cancelled.\n",
      "\n",
      " Sorry Isaac N. but the dineer is cancelled.\n",
      "\n",
      " Sorry Javier S. but the dineer is cancelled.\n",
      "\n",
      "['Joseph O.', 'Albert E.']\n",
      "[]\n",
      "\n",
      "\n"
     ]
    }
   ],
   "source": [
    "print('Sorry but we finally only have a table for 2...')\n",
    "\n",
    "popped_guess1 = invitados.pop()\n",
    "print(f'\\n Sorry '+popped_guess1+' but the dineer is cancelled.')\n",
    "popped_guess2 = invitados.pop() \n",
    "print(f'\\n Sorry '+popped_guess2+' but the dineer is cancelled.')\n",
    "popped_guess3 = invitados.pop() \n",
    "print(f'\\n Sorry '+popped_guess3+' but the dineer is cancelled.')\n",
    "popped_guess4 = invitados.pop() \n",
    "print(f'\\n Sorry '+popped_guess4+' but the dineer is cancelled.')\n",
    "popped_guess5 = invitados.pop() \n",
    "print(f'\\n Sorry '+popped_guess5+' but the dineer is cancelled.\\n')\n",
    "print(invitados)\n",
    "del invitados[0]\n",
    "del invitados[0]\n",
    "print(invitados)\n",
    "print('\\n')"
   ]
  },
  {
   "cell_type": "markdown",
   "id": "772614b0",
   "metadata": {},
   "source": [
    "3-8.   Ver el mundo: Piense en al menos cinco lugares del mundo que le gustaría visitar. \n",
    "           •​Guarde esos lugares en una lista. Asegúrese de no hacerlo en orden alfabético. \n",
    "\n"
   ]
  },
  {
   "cell_type": "code",
   "execution_count": 17,
   "id": "544f9ded",
   "metadata": {},
   "outputs": [],
   "source": [
    "lugares = ['Barcelona','Yamba','Fiji','Hawai','Ecuador']"
   ]
  },
  {
   "cell_type": "markdown",
   "id": "83223b36",
   "metadata": {},
   "source": [
    "   •​Imprima la lista en su orden original. No se preocupe por el formato,\n",
    "   simplemente imprímala como una lista de Python en bruto."
   ]
  },
  {
   "cell_type": "code",
   "execution_count": 18,
   "id": "175ff1be",
   "metadata": {},
   "outputs": [
    {
     "name": "stdout",
     "output_type": "stream",
     "text": [
      "['Barcelona', 'Yamba', 'Fiji', 'Hawai', 'Ecuador']\n"
     ]
    }
   ],
   "source": [
    "print(lugares)"
   ]
  },
  {
   "cell_type": "markdown",
   "id": "08ba1e80",
   "metadata": {},
   "source": [
    "        •​Use sorted() para imprimir la lista en orden alfabético sin modificarla realmente. "
   ]
  },
  {
   "cell_type": "code",
   "execution_count": 19,
   "id": "dc7dfa5b",
   "metadata": {},
   "outputs": [
    {
     "name": "stdout",
     "output_type": "stream",
     "text": [
      "['Barcelona', 'Ecuador', 'Fiji', 'Hawai', 'Yamba']\n"
     ]
    }
   ],
   "source": [
    "print(sorted(lugares))"
   ]
  },
  {
   "cell_type": "markdown",
   "id": "af52794e",
   "metadata": {},
   "source": [
    "        •​Compruebe que la lista sigue en su orden original imprimiéndola."
   ]
  },
  {
   "cell_type": "code",
   "execution_count": 20,
   "id": "e3153a1c",
   "metadata": {},
   "outputs": [
    {
     "name": "stdout",
     "output_type": "stream",
     "text": [
      "['Barcelona', 'Yamba', 'Fiji', 'Hawai', 'Ecuador']\n"
     ]
    }
   ],
   "source": [
    "print(lugares)"
   ]
  },
  {
   "cell_type": "markdown",
   "id": "89598bae",
   "metadata": {},
   "source": [
    "        •​Use sorted() para imprimir la lista en orden alfabético inverso sin cambiar el \n",
    "        orden de la lista original."
   ]
  },
  {
   "cell_type": "code",
   "execution_count": 21,
   "id": "b70ec5c0",
   "metadata": {},
   "outputs": [
    {
     "name": "stdout",
     "output_type": "stream",
     "text": [
      "['Yamba', 'Hawai', 'Fiji', 'Ecuador', 'Barcelona']\n"
     ]
    }
   ],
   "source": [
    "print(sorted(lugares,reverse=True))"
   ]
  },
  {
   "cell_type": "markdown",
   "id": "d6bf280d",
   "metadata": {},
   "source": [
    "        •​Compruebe que la lista sigue en su orden original imprimiéndola otra vez."
   ]
  },
  {
   "cell_type": "code",
   "execution_count": 22,
   "id": "d822bd71",
   "metadata": {},
   "outputs": [
    {
     "name": "stdout",
     "output_type": "stream",
     "text": [
      "['Barcelona', 'Yamba', 'Fiji', 'Hawai', 'Ecuador']\n"
     ]
    }
   ],
   "source": [
    "print(lugares)"
   ]
  },
  {
   "cell_type": "markdown",
   "id": "a7799d78",
   "metadata": {},
   "source": [
    "        •​Use reverse() para cambiar el orden de la lista. Imprímala para comprobar \n",
    "        que el orden ha cambiado. "
   ]
  },
  {
   "cell_type": "code",
   "execution_count": 23,
   "id": "0acee561",
   "metadata": {},
   "outputs": [
    {
     "name": "stdout",
     "output_type": "stream",
     "text": [
      "['Ecuador', 'Hawai', 'Fiji', 'Yamba', 'Barcelona']\n"
     ]
    }
   ],
   "source": [
    "lugares.reverse()\n",
    "print(lugares)"
   ]
  },
  {
   "cell_type": "markdown",
   "id": "7cc78073",
   "metadata": {},
   "source": [
    "        •​Use reverse() para cambiar el orden de la lista de nuevo.\n",
    "        Imprímala para comprobar que ha vuelto al orden original. "
   ]
  },
  {
   "cell_type": "code",
   "execution_count": 24,
   "id": "98e23ba8",
   "metadata": {},
   "outputs": [
    {
     "name": "stdout",
     "output_type": "stream",
     "text": [
      "['Barcelona', 'Yamba', 'Fiji', 'Hawai', 'Ecuador']\n"
     ]
    }
   ],
   "source": [
    "lugares.reverse()\n",
    "print(lugares)"
   ]
  },
  {
   "cell_type": "markdown",
   "id": "ec4c8819",
   "metadata": {},
   "source": [
    "        •​Use sort() para cambiar la lista y guardarla en orden alfabético.\n",
    "        Imprímala para comprobar que el orden ha cambiado."
   ]
  },
  {
   "cell_type": "code",
   "execution_count": 25,
   "id": "bb488a14",
   "metadata": {},
   "outputs": [
    {
     "name": "stdout",
     "output_type": "stream",
     "text": [
      "['Barcelona', 'Ecuador', 'Fiji', 'Hawai', 'Yamba']\n"
     ]
    }
   ],
   "source": [
    "lugares.sort()\n",
    "print(lugares)"
   ]
  },
  {
   "cell_type": "markdown",
   "id": "750a9f9a",
   "metadata": {},
   "source": [
    "        •​Use sort() para cambiar la lista y guardarla en orden alfabético inverso. \n",
    "        Imprímala para comprobar que el orden ha cambiado. "
   ]
  },
  {
   "cell_type": "code",
   "execution_count": 26,
   "id": "a213d6e1",
   "metadata": {},
   "outputs": [
    {
     "name": "stdout",
     "output_type": "stream",
     "text": [
      "['Yamba', 'Hawai', 'Fiji', 'Ecuador', 'Barcelona']\n"
     ]
    }
   ],
   "source": [
    "lugares.sort(reverse=True)\n",
    "print(lugares)"
   ]
  },
  {
   "cell_type": "markdown",
   "id": "a9198b30",
   "metadata": {},
   "source": [
    "​3-9.  Invitados a la cena: Trabajando con uno de los programas de los ejercicios 3-4 a 3-7, \n",
    "       utilice len() para imprimir un mensaje indicando el número de personas que va a invitar a cenar. "
   ]
  },
  {
   "cell_type": "code",
   "execution_count": 29,
   "id": "1c85b936",
   "metadata": {},
   "outputs": [
    {
     "name": "stdout",
     "output_type": "stream",
     "text": [
      "Finalmente seremos 4 invitados\n"
     ]
    }
   ],
   "source": [
    "print(f'Finalmente seremos '+str(len(invitados))+' invitados')"
   ]
  },
  {
   "cell_type": "markdown",
   "id": "34d33a7f",
   "metadata": {},
   "source": [
    "​3-10. Todas las funciones: Piense en algo que podría guardar en una lista. Por ejemplo, \n",
    "        podría hacer una lista de montañas, ríos, países, ciudades, idiomas o cualquier otra cosa.\n",
    "        Escriba un programa que cree una lista que contenga estos elementos y use cada función \n",
    "        presentada en este capítulo al menos una vez."
   ]
  }
 ],
 "metadata": {
  "kernelspec": {
   "display_name": "Python 3",
   "language": "python",
   "name": "python3"
  },
  "language_info": {
   "codemirror_mode": {
    "name": "ipython",
    "version": 3
   },
   "file_extension": ".py",
   "mimetype": "text/x-python",
   "name": "python",
   "nbconvert_exporter": "python",
   "pygments_lexer": "ipython3",
   "version": "3.11.9"
  }
 },
 "nbformat": 4,
 "nbformat_minor": 5
}
